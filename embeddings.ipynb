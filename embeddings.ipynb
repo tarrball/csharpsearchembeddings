{
 "cells": [
  {
   "cell_type": "markdown",
   "metadata": {},
   "source": [
    "# Creating Embeddings with OpenAI and Performing a Search in .NET\n",
    "\n",
    "If you've looked at a lot of Jupyter Notebooks before and think mine is laid out stupidly, I'm sorry. It's my first day.\n",
    "\n",
    "## Nuget packages & using statements\n",
    "\n",
    "We'll be using OpenAI's SDK to interact with their API and CsvHelper to manage our test data."
   ]
  },
  {
   "cell_type": "code",
   "execution_count": 2,
   "metadata": {
    "dotnet_interactive": {
     "language": "csharp"
    },
    "polyglot_notebook": {
     "kernelName": "csharp"
    },
    "vscode": {
     "languageId": "polyglot-notebook"
    }
   },
   "outputs": [
    {
     "data": {
      "text/html": [
       "<div><div></div><div></div><div><strong>Installed Packages</strong><ul><li><span>CsvHelper, 31.0.4</span></li><li><span>OpenAI-DotNet, 7.7.7</span></li><li><span>System.Numerics.Tensors, 8.0.0</span></li></ul></div></div>"
      ]
     },
     "metadata": {},
     "output_type": "display_data"
    }
   ],
   "source": [
    "#r \"nuget:OpenAI-DotNet, 7.7.7\"\n",
    "#r \"nuget:CsvHelper, 31.0.4\"\n",
    "#r \"nuget:System.Numerics.Tensors, 8.0.0\""
   ]
  },
  {
   "cell_type": "code",
   "execution_count": 3,
   "metadata": {
    "dotnet_interactive": {
     "language": "csharp"
    },
    "polyglot_notebook": {
     "kernelName": "csharp"
    },
    "vscode": {
     "languageId": "polyglot-notebook"
    }
   },
   "outputs": [],
   "source": [
    "using CsvHelper;\n",
    "using CsvHelper.Configuration;\n",
    "using OpenAI;\n",
    "using System;\n",
    "using System.Collections.Generic;\n",
    "using System.Globalization;\n",
    "using System.IO;\n",
    "using System.Linq;\n",
    "using System.Numerics.Tensors;\n",
    "using System.Text;\n",
    "using System.Threading.Tasks;"
   ]
  },
  {
   "cell_type": "markdown",
   "metadata": {},
   "source": [
    "## Parse the CSV\n",
    "\n",
    "Using CsvHelper, we'll parse the Amazon review file. We'll also map the fields we'll be creating embeddings from (\"Summary\" and \"Text\"). We'll keep the other properties from the CSV, but the only \"searchable\" property will be the new one we create: \"Combined\".\n"
   ]
  },
  {
   "cell_type": "code",
   "execution_count": 4,
   "metadata": {
    "dotnet_interactive": {
     "language": "csharp"
    },
    "polyglot_notebook": {
     "kernelName": "csharp"
    },
    "vscode": {
     "languageId": "polyglot-notebook"
    }
   },
   "outputs": [
    {
     "name": "stdout",
     "output_type": "stream",
     "text": [
      "Title: Good Quality Dog Food Content: I have bought several of the Vitality canned dog food products and have found them all to be of good quality. The product looks more like a stew than a processed meat and it smells better. My Labrador is finicky and she appreciates this product better than  most.\n",
      "Title: Not as Advertised Content: Product arrived labeled as Jumbo Salted Peanuts...the peanuts were actually small sized unsalted. Not sure if this was an error or if the vendor intended to represent the product as \"Jumbo\".\n",
      "Title: \"Delight\" says it all Content: This is a confection that has been around a few centuries.  It is a light, pillowy citrus gelatin with nuts - in this case Filberts. And it is cut into tiny squares and then liberally coated with powdered sugar.  And it is a tiny mouthful of heaven.  Not too chewy, and very flavorful.  I highly recommend this yummy treat.  If you are familiar with the story of C.S. Lewis' \"The Lion, The Witch, and The Wardrobe\" - this is the treat that seduces Edmund into selling out his Brother and Sisters to the Witch.\n",
      "Title: Cough Medicine Content: If you are looking for the secret ingredient in Robitussin I believe I have found it.  I got this in addition to the Root Beer Extract I ordered (which was good) and made some cherry soda.  The flavor is very medicinal.\n",
      "Title: Great taffy Content: Great taffy at a great price.  There was a wide assortment of yummy taffy.  Delivery was very quick.  If your a taffy lover, this is a deal.\n"
     ]
    }
   ],
   "source": [
    "class AmazonReview\n",
    "{\n",
    "    public string Id { get; set; }\n",
    "    public string ProductId { get; set; }\n",
    "    public string ProfileName { get; set; }\n",
    "    public string HelpfulnessNumerator { get; set; }\n",
    "    public string HelpfulnessDenominator { get; set; }\n",
    "    public int Score { get; set; }\n",
    "    public int Time { get; set; }\n",
    "    public string Summary { get; set; }\n",
    "    public string Text { get; set; }\n",
    "\n",
    "    // These won't be in the CSV.\n",
    "    // We'll created \"Combined\" with a custom mapping, and then\n",
    "    // we'll calculate \"Embeddings\" using OpenAI API.\n",
    "    public string Combined { get; set; }\n",
    "    public float[] Embeddings { get; set; }\n",
    "}\n",
    "\n",
    "class AmazonReviewMap : ClassMap<AmazonReview>\n",
    "{\n",
    "    public AmazonReviewMap()\n",
    "    {\n",
    "        AutoMap(CultureInfo.InvariantCulture);\n",
    "        Map(m => m.Embeddings).Ignore();\n",
    "\n",
    "        Map(m => m.Combined).Convert(args =>\n",
    "        {\n",
    "            var combined = \"Title: \" \n",
    "              + args.Row.GetField<string>(\"Summary\").Trim() \n",
    "              + \" Content: \"\n",
    "              + args.Row.GetField<string>(\"Text\").Trim();\n",
    "\n",
    "            return combined;\n",
    "        });\n",
    "    }\n",
    "}\n",
    "\n",
    "AmazonReview[] reviews;\n",
    "\n",
    "using (var reader = new StreamReader(\"./amazon_reviews_1000.csv\"))\n",
    "using (var csv = new CsvHelper.CsvReader(reader, new CsvHelper.Configuration.CsvConfiguration(CultureInfo.InvariantCulture) \n",
    "    {\n",
    "      HasHeaderRecord = true, \n",
    "      HeaderValidated = null, \n",
    "      MissingFieldFound = null \n",
    "    })\n",
    ")\n",
    "{\n",
    "    csv.Context.RegisterClassMap<AmazonReviewMap>();\n",
    "    reviews = csv.GetRecords<AmazonReview>().ToArray();\n",
    "\n",
    "    // Print a sample\n",
    "    reviews.Take(5).ToList().ForEach(review => Console.WriteLine(review.Combined));\n",
    "}"
   ]
  },
  {
   "cell_type": "markdown",
   "metadata": {},
   "source": [
    "## Create Embeddings\n",
    "\n",
    "We're going to use OpenAI's SDK to calculate embeddings from the API. This is going to turn the \"Combined\" property into a large vector of floats. This will take a few minutes to run.\n",
    "\n",
    "By default, the `text-embedding-3-small` model returns 1536 dimensions, but OpenAI recommends you provide a smaller dimension parameter to save on compute time and resources. They say you can do this without a notable dip in quality ([see here](https://openai.com/blog/new-embedding-models-and-api-updates)).\n",
    "\n",
    "One thing to note here, I'm not checking token count ahead of time. In OpenAI's tutorials/notebooks, they use their Python package (`tiktoken`) to count tokens ahead of time and to filter out any review that exceeds a token count. There are some 3rd-party C# packages that do this too, but that's an exercise left up to the reader."
   ]
  },
  {
   "cell_type": "code",
   "execution_count": 5,
   "metadata": {
    "dotnet_interactive": {
     "language": "csharp"
    },
    "polyglot_notebook": {
     "kernelName": "csharp"
    },
    "vscode": {
     "languageId": "polyglot-notebook"
    }
   },
   "outputs": [],
   "source": [
    "const string model = \"text-embedding-3-small\";\n",
    "const string apiKey = \"<YOUR_API_KEY>\";\n",
    "\n",
    "using (var api = new OpenAIClient(apiKey))\n",
    "{\n",
    "    foreach (var review in reviews)\n",
    "    {\n",
    "        var response = await api.EmbeddingsEndpoint.CreateEmbeddingAsync(review.Combined, model, dimensions: 512);\n",
    "        review.Embeddings = response.Data.First().Embedding.Select(e => (float)e).ToArray();\n",
    "    }\n",
    "}"
   ]
  },
  {
   "cell_type": "code",
   "execution_count": 6,
   "metadata": {
    "dotnet_interactive": {
     "language": "csharp"
    },
    "polyglot_notebook": {
     "kernelName": "csharp"
    },
    "vscode": {
     "languageId": "polyglot-notebook"
    }
   },
   "outputs": [],
   "source": [
    "// Sanity check\n",
    "System.Diagnostics.Debug.Assert(reviews.All(review => review.Embeddings.Length == 512));"
   ]
  },
  {
   "cell_type": "markdown",
   "metadata": {},
   "source": [
    "## Searching with Embeddings\n",
    "\n",
    "Now that we've converted our \"Combined\" text property into embeddings, we can search it. The steps to do so are:\n",
    "\n",
    "1. Collect a search query (a string of text).\n",
    "2. Convert that query into embeddings (using the OpenAI SDK).\n",
    "3. Use math to calculate which \"review embeddings\" are near your \"query embeddings. OpenAI recommends using [Cosine similarity](https://en.wikipedia.org/wiki/Cosine_similarity).\n",
    "4. Grab some of the best matches."
   ]
  },
  {
   "cell_type": "code",
   "execution_count": 10,
   "metadata": {
    "dotnet_interactive": {
     "language": "csharp"
    },
    "polyglot_notebook": {
     "kernelName": "csharp"
    },
    "vscode": {
     "languageId": "polyglot-notebook"
    }
   },
   "outputs": [],
   "source": [
    "class AmazonReviewQueryMatch\n",
    "{\n",
    "    public AmazonReview Review { get; set; }\n",
    "    public double Relatedness { get; set; }\n",
    "}\n",
    "\n",
    "async Task<AmazonReviewQueryMatch[]> Search(string query, int topN = 5)\n",
    "{\n",
    "    float[] queryEmbeddings;\n",
    "\n",
    "    using (var api = new OpenAIClient(apiKey))\n",
    "    {\n",
    "        var response = await api.EmbeddingsEndpoint.CreateEmbeddingAsync(query, model, dimensions: 512);\n",
    "        queryEmbeddings = response.Data.First().Embedding.Select(e => (float)e).ToArray();\n",
    "    }\n",
    "\n",
    "    var matches = reviews.Select(review => new AmazonReviewQueryMatch\n",
    "    {\n",
    "        Review = review,\n",
    "        Relatedness = TensorPrimitives.CosineSimilarity(\n",
    "          new ReadOnlySpan<float>(review.Embeddings),\n",
    "          new ReadOnlySpan<float>(queryEmbeddings)\n",
    "        )\n",
    "    })\n",
    "    .OrderByDescending(match => match.Relatedness)\n",
    "    .Take(topN)\n",
    "    .ToArray();\n",
    "\n",
    "    return matches;\n",
    "}"
   ]
  },
  {
   "cell_type": "code",
   "execution_count": 14,
   "metadata": {
    "dotnet_interactive": {
     "language": "csharp"
    },
    "polyglot_notebook": {
     "kernelName": "csharp"
    },
    "vscode": {
     "languageId": "polyglot-notebook"
    }
   },
   "outputs": [
    {
     "name": "stdout",
     "output_type": "stream",
     "text": [
      "0.48951831459999084 Title: Disgusting Content: These chips are nasty.  I thought someone had spilled a drink in the bag, no the chips were just soaked with grease.  Nasty!!\n",
      "0.42020636796951294 Title: ABSOLUTELY VILE!!! Content: Imagine taking some kids' playground chalk, perhaps that tan colored one and grinding it into powder with plenty of chunks. Then scoop it up and put it in your mouth.<br /><br />That's how disgusting this bar is.<br /><br />I have no idea how and who is rating this as flavorful, IT HAS NONE. I've done nutritional coaching for 30 years and watched healthy foods progress from painfully bad to barely edible to excellent.<br /><br />This neanderthal-era gluten free bar is so bad I want to go to my local grocery store, take all the boxes off off the shelf and hide them in a different part of the store (perhaps, if there's a trash compactor?) just to protect people from the experience my daughter had with this product.<br /><br />Save your money for these ridiculously expensive and spend it on anything else.<br /><br />\"Enjoy Life\" bars? Being ill is better than putting this garbage in your mouth.\n",
      "0.394991934299469 Title: OMG DO NOT BUY!!! Content: OMG I would love these cookies except for the chocolate mixed in makes it taste medicinal. DEGUSTING isn't even a strong enough word. A horrible horrible mistake...an expensive mistake....they advertised it as peanut butter cookies which is why I bought them since everyone else had peanut butter chocolate cookies when I just wanted plan peanut butter cookies....however when I received them I found out they were the chocolate peanut butter ones but I thought okay I'll try them and omg I almost threw up from the taste. HORRIBLE, HORRIBLE, DISGUTINGLY, MEDICINAL TASTE. DO NOT BUY!!! If they had a zero before the stars I would rate it a zero instead of 1 star.\n",
      "0.3930557668209076 Title: HORRIBLE I CANT BELIEVE THIS! Content: Terrible! I cannot believe this, I received this item and EVERY SINGLE BAG WAS OPENED BUT 4!!!! I'm stationed in Afghanistan and this was gonna be a snack for my team while going out on missions. I was so embarrassed when the bags were opened and spilt out all in the box, gross! And the box is filled with grease stains. Idk if it was from the airplane ride all the way here, but the box should have been more insulated and bubble wrap should have been used instead of paper. I'm very unhappy with stale crusty chips out the bag and us soldiers cannot enjoy now.\n",
      "0.3841608762741089 Title: Awful Content: Just awful!  I thought food was supposed to taste good!  I had to eat ice cream afterwards to get the taste out of my mouth, it's that bad.\n"
     ]
    }
   ],
   "source": [
    "var results = await Search(\"disgusting\");\n",
    "\n",
    "results.ToList().ForEach(match => Console.WriteLine($\"{match.Relatedness} {match.Review.Combined}\"));"
   ]
  }
 ],
 "metadata": {
  "language_info": {
   "name": "python"
  }
 },
 "nbformat": 4,
 "nbformat_minor": 2
}
